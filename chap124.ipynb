{
 "cells": [
  {
   "cell_type": "markdown",
   "metadata": {},
   "source": [
    "##### Mouse as a paint-Brush"
   ]
  },
  {
   "cell_type": "code",
   "execution_count": 1,
   "metadata": {},
   "outputs": [],
   "source": [
    "import numpy as np\n",
    "import cv2"
   ]
  },
  {
   "cell_type": "code",
   "execution_count": 2,
   "metadata": {},
   "outputs": [],
   "source": [
    "drawing = False # 마우스가 눌려 있을 때 True\n",
    "mode = True # True면 사각형, False면 원\n",
    "ix,iy =-1,-1  \n",
    "\n",
    "#mouse call back function\n",
    "def draw_circle(event,x,y,flags,param): \n",
    "    global ix,iy,drawing,mode\n",
    "\n",
    "    if event == cv2.EVENT_LBUTTONDOWN:  # 마우스 좌클릭\n",
    "        drawing=True\n",
    "        ix, iy = x, y   # 시작 좌표 저장\n",
    "    elif event == cv2.EVENT_MOUSEMOVE:  # 마우스 이동\n",
    "        if drawing == True:\n",
    "            if mode == True:\n",
    "                cv2.rectangle(img,(ix,iy),(x,y),(0,255,0),-1)   # 사각형\n",
    "            else:\n",
    "                cv2.circle(img,(x,y),5,(0,0,255),-1)    # 원\n",
    "    elif event == cv2.EVENT_LBUTTONUP:  # 마우스 왼쪽 버튼을 떼었을 때\n",
    "        drawing = False\n",
    "        if mode == True:\n",
    "            cv2.rectangle(img,(ix,iy),(x,y),(0,255,0),-1)   # 사각형\n",
    "        else:\n",
    "            cv2.circle(img,(x,y),5,(0,0,255),-1)    # 원\n",
    "    "
   ]
  },
  {
   "cell_type": "code",
   "execution_count": 3,
   "metadata": {},
   "outputs": [],
   "source": [
    "img = np.zeros((512,512,3),np.uint8)\n",
    "cv2.namedWindow('image')\n",
    "cv2.setMouseCallback('image',draw_circle)\n",
    "while(1):\n",
    "    cv2.imshow('image',img) # 현재 이미지 표시\n",
    "    k = cv2.waitKey(1)&0xFF # 키 입력 대기\n",
    "    if k == ord('m'):   # m 키를 누르면 모드 전환\n",
    "        mode = not mode\n",
    "    elif k == 27:\n",
    "        break\n",
    "cv2.destroyAllWindows()  "
   ]
  },
  {
   "cell_type": "code",
   "execution_count": 4,
   "metadata": {},
   "outputs": [],
   "source": [
    "#mousecallbackfunction\n",
    "def draw_circle(event,x,y,flags,param):\n",
    "    if event==cv2.EVENT_MOUSEMOVE: # EVENT_LBUTTONDBLCLK 더블클릭 EVENT_MOUSEMOVE :움직이면 생김\n",
    "        cv2.circle(img,(x,y),50,(255,0 ,0),-1)\n",
    "\n",
    "#Createablackimage,awindowandbindthefunctiontowindow\n",
    "img=np.zeros((512,512,3),np.uint8)\n",
    "cv2.namedWindow('image')\n",
    "cv2.setMouseCallback('image',draw_circle)\n",
    "\n",
    "\n",
    "while(1):\n",
    "    cv2.imshow('image',img)\n",
    "    if cv2.waitKey(20)&0xFF==27:\n",
    "        break\n",
    "cv2.destroyAllWindows()"
   ]
  }
 ],
 "metadata": {
  "kernelspec": {
   "display_name": "IP2024",
   "language": "python",
   "name": "python3"
  },
  "language_info": {
   "codemirror_mode": {
    "name": "ipython",
    "version": 3
   },
   "file_extension": ".py",
   "mimetype": "text/x-python",
   "name": "python",
   "nbconvert_exporter": "python",
   "pygments_lexer": "ipython3",
   "version": "3.8.19"
  }
 },
 "nbformat": 4,
 "nbformat_minor": 2
}
