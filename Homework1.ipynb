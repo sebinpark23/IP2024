{
 "cells": [
  {
   "cell_type": "code",
   "execution_count": 1,
   "metadata": {},
   "outputs": [],
   "source": [
    "import cv2\n",
    "import numpy as np"
   ]
  },
  {
   "cell_type": "code",
   "execution_count": 2,
   "metadata": {},
   "outputs": [],
   "source": [
    "img = cv2.imread('birthday0205.jpg')\n",
    "img_copy = img.copy()\n",
    "def nothing(x):\n",
    "    pass"
   ]
  },
  {
   "cell_type": "markdown",
   "metadata": {},
   "source": [
    "##### 마우스 좌표"
   ]
  },
  {
   "cell_type": "code",
   "execution_count": 3,
   "metadata": {},
   "outputs": [],
   "source": [
    "event = [i for i in dir(cv2) if'EVENT' in i]\n",
    "drawing = False #trueifmouseispressed\n",
    "mode = True #ifTrue,drawrectangle.Press'm'totoggletocurve\n",
    "ix, iy = -1, -1\n",
    "font = cv2.FONT_HERSHEY_SIMPLEX\n",
    "\n",
    "#mouse callback function\n",
    "def draw_circle(event,x,y,flags,param):\n",
    "    global ix, iy, drawing, mode\n",
    "\n",
    "    if event == cv2.EVENT_LBUTTONDOWN:\n",
    "        drawing = True\n",
    "        ix, iy = x, y\n",
    "    elif event == cv2.EVENT_MOUSEMOVE:\n",
    "        if drawing==True:\n",
    "            if mode== True:\n",
    "                cv2.rectangle(img,(ix,iy),(x,y),(0,0,250),-1)\n",
    "                cv2.putText(img,'Mouse Position ('+str(ix) + \",\"+str(iy)+\")\",(10,50), font, 0.7, (0, 0, 255), 1, cv2.LINE_AA)\n",
    "            else:\n",
    "                cv2.circle(img,(x,y),5,(0,0,255),-1)\n",
    "\n",
    "    elif event == cv2.EVENT_LBUTTONUP:\n",
    "        drawing=False\n",
    "        if mode== True:\n",
    "            #cv2.rectangle(img,(ix,iy),(x,y),(0,255,0),-1)\n",
    "            #x1, y1 = min(ix, x), min(iy, y)\n",
    "            #x2, y2 = max(ix, x), max(iy, y)\n",
    "            #img[y1:y2, x1:x2, 2] = 255\n",
    "            #img[200:500, 200:400, 2]=255\n",
    "            #cv2.putText(img,'Mouse Position ('+str(ix) + \",\"+str(iy)+\")\",(10,50), font, 0.7, (0, 0, 255), 1, cv2.LINE_AA)\n",
    "            cv2.addWeighted(img_copy, 0.5, img, 0.5, 0, img)\n",
    "\n",
    "        else:\n",
    "            cv2.circle(img,(x,y),5,(0,0,255),-1)"
   ]
  },
  {
   "cell_type": "markdown",
   "metadata": {},
   "source": [
    "##### 트랙바 추가"
   ]
  },
  {
   "cell_type": "code",
   "execution_count": 4,
   "metadata": {},
   "outputs": [],
   "source": [
    "img=cv2.imread('birthday0205.jpg')\n",
    "cv2.namedWindow('image')\n",
    "cv2.setMouseCallback('image',draw_circle)\n",
    "\n",
    "\n",
    "cv2.createTrackbar('median','image',0,10,nothing)   # 0부터 10까지\n",
    "\n",
    "while(1):\n",
    "    #median_value = cv2.getTrackbarPos('median', 'image')\n",
    "    m=cv2.getTrackbarPos('median', 'image')\n",
    "    mimg1=cv2.medianBlur(img, 2*m+1)\n",
    "    cv2.putText(img, 'Trackbar Value: ' + str(m), (10, 100), font, 0.7, (255, 0, 0), 1, cv2.LINE_AA)\n",
    "    cv2.imshow('image',mimg1)\n",
    "    k=cv2.waitKey(1)&0xFF\n",
    "\n",
    "    cv2.imshow('image', mimg1)\n",
    "\n",
    "    if k == ord('m'):\n",
    "        mode = not mode\n",
    "\n",
    "\n",
    "    elif k == 27:\n",
    "        break\n",
    "\n",
    "\n",
    "cv2.destroyAllWindows()"
   ]
  }
 ],
 "metadata": {
  "kernelspec": {
   "display_name": "IP2024",
   "language": "python",
   "name": "python3"
  },
  "language_info": {
   "codemirror_mode": {
    "name": "ipython",
    "version": 3
   },
   "file_extension": ".py",
   "mimetype": "text/x-python",
   "name": "python",
   "nbconvert_exporter": "python",
   "pygments_lexer": "ipython3",
   "version": "3.8.19"
  }
 },
 "nbformat": 4,
 "nbformat_minor": 2
}
