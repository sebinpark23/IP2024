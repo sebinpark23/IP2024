{
 "cells": [
  {
   "cell_type": "code",
   "execution_count": 4,
   "metadata": {},
   "outputs": [],
   "source": [
    "import cv2\n",
    "import numpy as np"
   ]
  },
  {
   "cell_type": "markdown",
   "metadata": {},
   "source": [
    "##### 트랙바"
   ]
  },
  {
   "cell_type": "code",
   "execution_count": 5,
   "metadata": {},
   "outputs": [],
   "source": [
    "def nothing(x): # 트랙바 콜백 함수(트랙바가 값을 변경할 때 호출)\n",
    "    pass"
   ]
  },
  {
   "cell_type": "code",
   "execution_count": 6,
   "metadata": {},
   "outputs": [],
   "source": [
    "# Create a black image,a window\n",
    "img=np.zeros((300,512,3),np.uint8)\n",
    "cv2.namedWindow('image')\n",
    "\n",
    "#create trackbars for color change\n",
    "cv2.createTrackbar('R','image',0,255,nothing) # R이라는 트렉터를 0부터 255까지\n",
    "cv2.createTrackbar('G','image',0,255,nothing)\n",
    "cv2.createTrackbar('B','image',0,255,nothing)\n",
    " \n",
    "#create switch for ON/OFF functionality\n",
    "switch='0:OFF\\n1:ON'\n",
    "cv2.createTrackbar(switch,'image',0,1,nothing)  # on/off 스위치 생성\n",
    "\n",
    "while(1):\n",
    "    cv2.imshow('image',img)\n",
    "    k=cv2.waitKey(1)&0xFF\n",
    "    if k== 27:\n",
    "        break  \n",
    "\n",
    "    #get current positions off our trackbars\n",
    "    r=cv2.getTrackbarPos('R','image')   # R 트랙바의 현재 값\n",
    "    g=cv2.getTrackbarPos('G','image')\n",
    "    b=cv2.getTrackbarPos('B','image')\n",
    "    s=cv2.getTrackbarPos(switch,'image')    # 스위치의 현재 값\n",
    "\n",
    "    if s== 0:\n",
    "        img[:]=0    # 스위치가 off일 때 이미지를 검정색으로\n",
    "                    # :은 처음부터 끝까지\n",
    "    else:\n",
    "        img[:]=[b,g,r]  # 스위치가 on 일 때 트랙바 값을 기반으로 이미지 색상 설정\n",
    "cv2.destroyAllWindows()"
   ]
  }
 ],
 "metadata": {
  "kernelspec": {
   "display_name": "IP2024",
   "language": "python",
   "name": "python3"
  },
  "language_info": {
   "codemirror_mode": {
    "name": "ipython",
    "version": 3
   },
   "file_extension": ".py",
   "mimetype": "text/x-python",
   "name": "python",
   "nbconvert_exporter": "python",
   "pygments_lexer": "ipython3",
   "version": "3.8.19"
  }
 },
 "nbformat": 4,
 "nbformat_minor": 2
}
