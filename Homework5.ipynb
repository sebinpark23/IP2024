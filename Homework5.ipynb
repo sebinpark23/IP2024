{
 "cells": [
  {
   "cell_type": "markdown",
   "metadata": {},
   "source": [
    "##### 1.5.10  Feature Matching"
   ]
  },
  {
   "cell_type": "code",
   "execution_count": 29,
   "metadata": {},
   "outputs": [],
   "source": [
    "import cv2\n",
    "from PIL import Image\n",
    "import numpy as np\n",
    "import matplotlib.pyplot as pl\n",
    "from matplotlib import pyplot as plt"
   ]
  },
  {
   "cell_type": "code",
   "execution_count": 30,
   "metadata": {},
   "outputs": [],
   "source": [
    "import cv2\n",
    "import numpy as np\n",
    "\n",
    "# Load the query image\n",
    "img1 = cv2.imread('mybook.jpg')  # queryImage\n",
    "\n",
    "# Check if the image is loaded correctly\n",
    "if img1 is None:\n",
    "    print(\"Error: Could not load query image.\")\n",
    "    exit()\n",
    "\n",
    "# Initialize the SIFT detector\n",
    "sift = cv2.SIFT_create()\n",
    "kp1, des1 = sift.detectAndCompute(img1, None)\n",
    "\n",
    "# Initialize video capture\n",
    "cap = cv2.VideoCapture(0)\n",
    "\n",
    "if not cap.isOpened():\n",
    "    print(\"Error: Could not open video stream.\")\n",
    "    exit()\n",
    "\n",
    "while True:\n",
    "    # Capture frame-by-frame\n",
    "    ret, frame = cap.read()\n",
    "    if not ret:\n",
    "        print(\"Error: Could not read frame.\")\n",
    "        break\n",
    "\n",
    "    # Find the keypoints and descriptors with SIFT\n",
    "    kp2, des2 = sift.detectAndCompute(frame, None)\n",
    "\n",
    "    # Create BFMatcher object\n",
    "    bf = cv2.BFMatcher(cv2.NORM_L1, crossCheck=True)\n",
    "\n",
    "    # Match descriptors only if des2 is not None\n",
    "    if des2 is not None:\n",
    "        matches = bf.match(des1, des2)\n",
    "        # Sort them in the order of their distance.\n",
    "        matches = sorted(matches, key=lambda x: x.distance)\n",
    "\n",
    "        # Draw first 10 matches.\n",
    "        img3 = cv2.drawMatches(img1, kp1, frame, kp2, matches[:40], None, flags=cv2.DRAW_MATCHES_FLAGS_NOT_DRAW_SINGLE_POINTS)\n",
    "\n",
    "        # Resize the result to fit the screen\n",
    "        img3 = cv2.resize(img3, (frame.shape[1], frame.shape[0]))\n",
    "\n",
    "        # Display the resulting frame and matching result\n",
    "        cv2.imshow('Matching', img3)\n",
    "    else:\n",
    "        # If no descriptors found, just show the original frame\n",
    "        cv2.imshow('Matching', frame)\n",
    "\n",
    "    # Press 'q' to exit the video stream\n",
    "    if cv2.waitKey(1) & 0xFF == ord('q'):\n",
    "        break\n",
    "\n",
    "# When everything is done, release the capture\n",
    "cap.release()\n",
    "cv2.destroyAllWindows()\n"
   ]
  }
 ],
 "metadata": {
  "kernelspec": {
   "display_name": "IP2024",
   "language": "python",
   "name": "python3"
  },
  "language_info": {
   "codemirror_mode": {
    "name": "ipython",
    "version": 3
   },
   "file_extension": ".py",
   "mimetype": "text/x-python",
   "name": "python",
   "nbconvert_exporter": "python",
   "pygments_lexer": "ipython3",
   "version": "3.8.19"
  }
 },
 "nbformat": 4,
 "nbformat_minor": 2
}
